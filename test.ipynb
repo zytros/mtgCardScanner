{
 "cells": [
  {
   "cell_type": "code",
   "execution_count": 1,
   "metadata": {},
   "outputs": [],
   "source": [
    "import requests"
   ]
  },
  {
   "cell_type": "code",
   "execution_count": 7,
   "metadata": {},
   "outputs": [
    {
     "name": "stdout",
     "output_type": "stream",
     "text": [
      "MOV 1 pos\n"
     ]
    }
   ],
   "source": [
    "currBin = 15\n",
    "value = 0\n",
    "mov_pos = (value - currBin) % 16\n",
    "mov_neg = (currBin - value) % 16\n",
    "if mov_pos < mov_neg:\n",
    "    print(f\"MOV {mov_pos} pos\")\n",
    "else:\n",
    "    print(f\"MOV {mov_neg} neg\")"
   ]
  },
  {
   "cell_type": "code",
   "execution_count": 4,
   "metadata": {},
   "outputs": [],
   "source": [
    "def list_all_mtg_sets(no_children=False):\n",
    "    url = \"https://api.scryfall.com/sets\"\n",
    "    response = requests.get(url)\n",
    "    set_names = []\n",
    "    set_codes = []\n",
    "    if response.status_code == 200:\n",
    "        sets_data = response.json()\n",
    "        if no_children:\n",
    "            for set_info in sets_data['data']:\n",
    "                if 'parent_set_code' not in set_info:\n",
    "                    set_names.append(set_info['name'])\n",
    "                    set_codes.append(set_info['code'])\n",
    "        else:\n",
    "            set_names = [set_info['name'] for set_info in sets_data['data']]\n",
    "            set_codes = [set_info['code'] for set_info in sets_data['data']]\n",
    "        return set_names, set_codes\n",
    "    else:\n",
    "        print(\"Failed to fetch sets from Scryfall\")\n",
    "        return []\n",
    "    \n",
    "def get_cards_in_set(set_code):\n",
    "    url = f\"https://api.scryfall.com/cards/search?order=set&q=e%3A{set_code}&unique=prints\"\n",
    "    response = requests.get(url)\n",
    "    \n",
    "    if response.status_code == 200:\n",
    "        cards_data = response.json()\n",
    "        card_name = [card['name'] for card in cards_data['data']]\n",
    "        card_price = [card.get('prices', {}).get('usd') for card in cards_data['data']]\n",
    "        # Handle pagination if there are more cards\n",
    "        while cards_data['has_more']:\n",
    "            next_page_url = cards_data['next_page']\n",
    "            response = requests.get(next_page_url)\n",
    "            if response.status_code == 200:\n",
    "                cards_data = response.json()\n",
    "                card_name.extend([card['name'] for card in cards_data['data']])\n",
    "                card_price.extend([card.get('prices', {}).get('usd') for card in cards_data['data']])\n",
    "            else:\n",
    "                print(\"Failed to fetch additional cards from Scryfall\")\n",
    "                break\n",
    "        \n",
    "        return card_name, card_price\n",
    "    else:\n",
    "        print(\"Failed to fetch cards from Scryfall\")\n",
    "        return []"
   ]
  },
  {
   "cell_type": "code",
   "execution_count": 5,
   "metadata": {},
   "outputs": [
    {
     "name": "stdout",
     "output_type": "stream",
     "text": [
      "Leyline of Hope 23.99\n"
     ]
    }
   ],
   "source": [
    "n, c = list_all_mtg_sets(no_children=True)\n",
    "cn, cp = get_cards_in_set(c[1])\n",
    "print(cn[0], cp[0])"
   ]
  },
  {
   "cell_type": "code",
   "execution_count": 8,
   "metadata": {},
   "outputs": [
    {
     "data": {
      "text/plain": [
       "{'object': 'set',\n",
       " 'id': 'a7ecb771-d1b6-4dec-8cf5-8d45179f21e0',\n",
       " 'code': 'fdn',\n",
       " 'mtgo_code': 'fdn',\n",
       " 'arena_code': 'fdn',\n",
       " 'tcgplayer_id': 23556,\n",
       " 'name': 'Foundations',\n",
       " 'uri': 'https://api.scryfall.com/sets/a7ecb771-d1b6-4dec-8cf5-8d45179f21e0',\n",
       " 'scryfall_uri': 'https://scryfall.com/sets/fdn',\n",
       " 'search_uri': 'https://api.scryfall.com/cards/search?include_extras=true&include_variations=true&order=set&q=e%3Afdn&unique=prints',\n",
       " 'released_at': '2024-11-15',\n",
       " 'set_type': 'core',\n",
       " 'card_count': 10,\n",
       " 'digital': False,\n",
       " 'nonfoil_only': False,\n",
       " 'foil_only': False,\n",
       " 'icon_svg_uri': 'https://svgs.scryfall.io/sets/fdn.svg?1722830400'}"
      ]
     },
     "execution_count": 8,
     "metadata": {},
     "output_type": "execute_result"
    }
   ],
   "source": [
    "response = requests.get('https://api.scryfall.com/sets/Foundations')\n",
    "response.json()"
   ]
  },
  {
   "cell_type": "code",
   "execution_count": 28,
   "metadata": {},
   "outputs": [],
   "source": [
    "from HWcomunication import call_arduino_function, open_serial, close_serial"
   ]
  },
  {
   "cell_type": "code",
   "execution_count": 63,
   "metadata": {},
   "outputs": [
    {
     "name": "stdout",
     "output_type": "stream",
     "text": [
      "Serial opened\n"
     ]
    }
   ],
   "source": [
    "ser = open_serial('COM4')"
   ]
  },
  {
   "cell_type": "code",
   "execution_count": 62,
   "metadata": {},
   "outputs": [
    {
     "name": "stdout",
     "output_type": "stream",
     "text": [
      "----- 0 -----\n"
     ]
    }
   ],
   "source": [
    "r = call_arduino_function(ser,2,200)\n",
    "print('-----',r,'-----')"
   ]
  },
  {
   "cell_type": "code",
   "execution_count": 68,
   "metadata": {},
   "outputs": [
    {
     "data": {
      "text/plain": [
       "0"
      ]
     },
     "execution_count": 68,
     "metadata": {},
     "output_type": "execute_result"
    }
   ],
   "source": [
    "call_arduino_function(ser, 3, 0)\n"
   ]
  },
  {
   "cell_type": "code",
   "execution_count": 69,
   "metadata": {},
   "outputs": [
    {
     "data": {
      "text/plain": [
       "0"
      ]
     },
     "execution_count": 69,
     "metadata": {},
     "output_type": "execute_result"
    }
   ],
   "source": [
    "call_arduino_function(ser, 2, 200)\n"
   ]
  },
  {
   "cell_type": "code",
   "execution_count": 70,
   "metadata": {},
   "outputs": [
    {
     "data": {
      "text/plain": [
       "0"
      ]
     },
     "execution_count": 70,
     "metadata": {},
     "output_type": "execute_result"
    }
   ],
   "source": [
    "call_arduino_function(ser, 4, 100)"
   ]
  },
  {
   "cell_type": "code",
   "execution_count": 49,
   "metadata": {},
   "outputs": [
    {
     "name": "stdout",
     "output_type": "stream",
     "text": [
      "Serial closed\n"
     ]
    }
   ],
   "source": [
    "close_serial(ser)"
   ]
  },
  {
   "cell_type": "code",
   "execution_count": null,
   "metadata": {},
   "outputs": [],
   "source": []
  },
  {
   "cell_type": "code",
   "execution_count": 1,
   "metadata": {},
   "outputs": [],
   "source": [
    "def up():\n",
    "    pass\n",
    "def down():\n",
    "    pass\n",
    "def left():\n",
    "    pass\n",
    "def right():\n",
    "    pass"
   ]
  },
  {
   "cell_type": "code",
   "execution_count": 2,
   "metadata": {},
   "outputs": [
    {
     "name": "stdout",
     "output_type": "stream",
     "text": [
      "[0, 1, 2, 3, 4, 5, 6, 7, 8, 9]\n",
      "[2, 3, 4, 5, 6, 7, 8, 9]\n",
      "[2, 4, 6, 8]\n"
     ]
    }
   ],
   "source": [
    "list = []\n",
    "a = range(10)\n",
    "for i in a:\n",
    "    list.append(i)\n",
    "print(list)\n",
    "\n",
    "list = []\n",
    "a = range(2,10)\n",
    "for i in a:\n",
    "    list.append(i)\n",
    "print(list)\n",
    "\n",
    "list = []\n",
    "a = range(2,10,2)\n",
    "for i in a:\n",
    "    list.append(i)\n",
    "print(list)\n"
   ]
  },
  {
   "cell_type": "code",
   "execution_count": null,
   "metadata": {},
   "outputs": [],
   "source": [
    "def draw_one(n):\n",
    "    up(2*n-1)\n",
    "    right(2*n-1)\n",
    "    down(2*n)\n",
    "    left(2*n)\n",
    "\n",
    "def draw_all(n):\n",
    "    for i in range(1,n+1):\n",
    "        draw_one(i)\n"
   ]
  }
 ],
 "metadata": {
  "kernelspec": {
   "display_name": "base",
   "language": "python",
   "name": "python3"
  },
  "language_info": {
   "codemirror_mode": {
    "name": "ipython",
    "version": 3
   },
   "file_extension": ".py",
   "mimetype": "text/x-python",
   "name": "python",
   "nbconvert_exporter": "python",
   "pygments_lexer": "ipython3",
   "version": "3.10.13"
  }
 },
 "nbformat": 4,
 "nbformat_minor": 2
}
