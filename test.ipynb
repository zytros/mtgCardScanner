{
 "cells": [
  {
   "cell_type": "code",
   "execution_count": 1,
   "metadata": {},
   "outputs": [],
   "source": [
    "import requests"
   ]
  },
  {
   "cell_type": "code",
   "execution_count": 2,
   "metadata": {},
   "outputs": [
    {
     "name": "stdout",
     "output_type": "stream",
     "text": [
      "MOV 1 pos\n"
     ]
    }
   ],
   "source": [
    "currBin = 15\n",
    "value = 0\n",
    "mov_pos = (value - currBin) % 16\n",
    "mov_neg = (currBin - value) % 16\n",
    "if mov_pos < mov_neg:\n",
    "    print(f\"MOV {mov_pos} pos\")\n",
    "else:\n",
    "    print(f\"MOV {mov_neg} neg\")"
   ]
  },
  {
   "cell_type": "code",
   "execution_count": 3,
   "metadata": {},
   "outputs": [],
   "source": [
    "def list_all_mtg_sets(no_children=False):\n",
    "    url = \"https://api.scryfall.com/sets\"\n",
    "    response = requests.get(url)\n",
    "    set_names = []\n",
    "    set_codes = []\n",
    "    if response.status_code == 200:\n",
    "        sets_data = response.json()\n",
    "        if no_children:\n",
    "            for set_info in sets_data['data']:\n",
    "                if 'parent_set_code' not in set_info:\n",
    "                    set_names.append(set_info['name'])\n",
    "                    set_codes.append(set_info['code'])\n",
    "        else:\n",
    "            set_names = [set_info['name'] for set_info in sets_data['data']]\n",
    "            set_codes = [set_info['code'] for set_info in sets_data['data']]\n",
    "        return set_names, set_codes\n",
    "    else:\n",
    "        print(\"Failed to fetch sets from Scryfall\")\n",
    "        return []\n",
    "    \n",
    "def get_cards_in_set(set_code):\n",
    "    url = f\"https://api.scryfall.com/cards/search?order=set&q=e%3A{set_code}&unique=prints\"\n",
    "    response = requests.get(url)\n",
    "    \n",
    "    if response.status_code == 200:\n",
    "        cards_data = response.json()\n",
    "        card_name = [card['name'] for card in cards_data['data']]\n",
    "        card_price = [card.get('prices', {}).get('usd') for card in cards_data['data']]\n",
    "        # Handle pagination if there are more cards\n",
    "        while cards_data['has_more']:\n",
    "            next_page_url = cards_data['next_page']\n",
    "            response = requests.get(next_page_url)\n",
    "            if response.status_code == 200:\n",
    "                cards_data = response.json()\n",
    "                card_name.extend([card['name'] for card in cards_data['data']])\n",
    "                card_price.extend([card.get('prices', {}).get('usd') for card in cards_data['data']])\n",
    "            else:\n",
    "                print(\"Failed to fetch additional cards from Scryfall\")\n",
    "                break\n",
    "        \n",
    "        return card_name, card_price\n",
    "    else:\n",
    "        print(\"Failed to fetch cards from Scryfall\")\n",
    "        return []"
   ]
  },
  {
   "cell_type": "code",
   "execution_count": 4,
   "metadata": {},
   "outputs": [
    {
     "name": "stdout",
     "output_type": "stream",
     "text": [
      "Acrobatic Cheerleader 0.01\n"
     ]
    }
   ],
   "source": [
    "n, c = list_all_mtg_sets(no_children=True)\n",
    "cn, cp = get_cards_in_set(c[1])\n",
    "print(cn[0], cp[0])"
   ]
  },
  {
   "cell_type": "code",
   "execution_count": 5,
   "metadata": {},
   "outputs": [
    {
     "data": {
      "text/plain": [
       "{'object': 'set',\n",
       " 'id': 'a7ecb771-d1b6-4dec-8cf5-8d45179f21e0',\n",
       " 'code': 'fdn',\n",
       " 'mtgo_code': 'fdn',\n",
       " 'arena_code': 'fdn',\n",
       " 'tcgplayer_id': 23556,\n",
       " 'name': 'Foundations',\n",
       " 'uri': 'https://api.scryfall.com/sets/a7ecb771-d1b6-4dec-8cf5-8d45179f21e0',\n",
       " 'scryfall_uri': 'https://scryfall.com/sets/fdn',\n",
       " 'search_uri': 'https://api.scryfall.com/cards/search?include_extras=true&include_variations=true&order=set&q=e%3Afdn&unique=prints',\n",
       " 'released_at': '2024-11-15',\n",
       " 'set_type': 'core',\n",
       " 'card_count': 37,\n",
       " 'digital': False,\n",
       " 'nonfoil_only': False,\n",
       " 'foil_only': False,\n",
       " 'icon_svg_uri': 'https://svgs.scryfall.io/sets/fdn.svg?1728273600'}"
      ]
     },
     "execution_count": 5,
     "metadata": {},
     "output_type": "execute_result"
    }
   ],
   "source": [
    "response = requests.get('https://api.scryfall.com/sets/Foundations')\n",
    "response.json()"
   ]
  },
  {
   "cell_type": "code",
   "execution_count": 7,
   "metadata": {},
   "outputs": [
    {
     "name": "stdout",
     "output_type": "stream",
     "text": [
      "Serial opened\n"
     ]
    }
   ],
   "source": [
    "from HWcomunication import HWCommunication\n",
    "import time\n",
    "arduinio = HWCommunication('COM8')"
   ]
  },
  {
   "cell_type": "code",
   "execution_count": 2,
   "metadata": {},
   "outputs": [
    {
     "name": "stdout",
     "output_type": "stream",
     "text": [
      "bin set from 0 to 11\n"
     ]
    }
   ],
   "source": [
    "r = arduinio.set_bin(11)"
   ]
  },
  {
   "cell_type": "code",
   "execution_count": 3,
   "metadata": {},
   "outputs": [
    {
     "name": "stdout",
     "output_type": "stream",
     "text": [
      "swiped 0\n",
      "swiped 0\n",
      "swiped 0\n",
      "swiped 0\n",
      "swiped 0\n",
      "swiped 0\n",
      "swiped 0\n",
      "swiped 0\n",
      "swiped 0\n",
      "swiped 0\n",
      "swiped 0\n",
      "swiped 0\n",
      "swiped 0\n",
      "swiped 0\n",
      "swiped 0\n",
      "swiped 0\n",
      "swiped 0\n",
      "swiped 0\n",
      "swiped 0\n",
      "swiped 0\n",
      "swiped 0\n",
      "swiped 0\n",
      "swiped 0\n",
      "swiped 0\n",
      "swiped 0\n",
      "swiped 0\n",
      "swiped 0\n",
      "swiped 0\n",
      "swiped 0\n"
     ]
    },
    {
     "ename": "KeyboardInterrupt",
     "evalue": "",
     "output_type": "error",
     "traceback": [
      "\u001b[1;31m---------------------------------------------------------------------------\u001b[0m",
      "\u001b[1;31mKeyboardInterrupt\u001b[0m                         Traceback (most recent call last)",
      "Cell \u001b[1;32mIn[3], line 3\u001b[0m\n\u001b[0;32m      1\u001b[0m \u001b[38;5;28;01mfor\u001b[39;00m i \u001b[38;5;129;01min\u001b[39;00m \u001b[38;5;28mrange\u001b[39m(\u001b[38;5;241m100\u001b[39m):\n\u001b[0;32m      2\u001b[0m     arduinio\u001b[38;5;241m.\u001b[39mswipe(\u001b[38;5;241m0\u001b[39m)\n\u001b[1;32m----> 3\u001b[0m     \u001b[43mtime\u001b[49m\u001b[38;5;241;43m.\u001b[39;49m\u001b[43msleep\u001b[49m\u001b[43m(\u001b[49m\u001b[38;5;241;43m1\u001b[39;49m\u001b[43m)\u001b[49m\n",
      "\u001b[1;31mKeyboardInterrupt\u001b[0m: "
     ]
    }
   ],
   "source": [
    "for i in range(100):\n",
    "    arduinio.swipe(0)\n",
    "    time.sleep(1)\n"
   ]
  },
  {
   "cell_type": "code",
   "execution_count": 10,
   "metadata": {},
   "outputs": [
    {
     "data": {
      "text/plain": [
       "0"
      ]
     },
     "execution_count": 10,
     "metadata": {},
     "output_type": "execute_result"
    }
   ],
   "source": [
    "arduinio.call_arduino_function(2, 200)\n"
   ]
  },
  {
   "cell_type": "code",
   "execution_count": 20,
   "metadata": {},
   "outputs": [
    {
     "name": "stdout",
     "output_type": "stream",
     "text": [
      "sledge moved by 100 \n"
     ]
    }
   ],
   "source": [
    "arduinio.move_sledge(100)"
   ]
  },
  {
   "cell_type": "code",
   "execution_count": 4,
   "metadata": {},
   "outputs": [
    {
     "name": "stdout",
     "output_type": "stream",
     "text": [
      "Serial closed\n"
     ]
    }
   ],
   "source": [
    "arduinio.close_serial()"
   ]
  },
  {
   "cell_type": "code",
   "execution_count": null,
   "metadata": {},
   "outputs": [],
   "source": []
  },
  {
   "cell_type": "code",
   "execution_count": 1,
   "metadata": {},
   "outputs": [],
   "source": [
    "def up():\n",
    "    pass\n",
    "def down():\n",
    "    pass\n",
    "def left():\n",
    "    pass\n",
    "def right():\n",
    "    pass"
   ]
  },
  {
   "cell_type": "code",
   "execution_count": null,
   "metadata": {},
   "outputs": [],
   "source": [
    "list = []\n",
    "a = range(10)\n",
    "for i in a:\n",
    "    list.append(i)\n",
    "print(list)\n",
    "\n",
    "list = []\n",
    "a = range(2,10)\n",
    "for i in a:\n",
    "    list.append(i)\n",
    "print(list)\n",
    "\n",
    "list = []\n",
    "a = range(2,10,2)\n",
    "for i in a:\n",
    "    list.append(i)\n",
    "print(list)\n"
   ]
  },
  {
   "cell_type": "code",
   "execution_count": null,
   "metadata": {},
   "outputs": [],
   "source": [
    "def draw_one(n):\n",
    "    up(2*n-1)\n",
    "    right(2*n-1)\n",
    "    down(2*n)\n",
    "    left(2*n)\n",
    "\n",
    "def draw_all(n):\n",
    "    for i in range(1,n+1):\n",
    "        draw_one(i)\n"
   ]
  },
  {
   "cell_type": "code",
   "execution_count": 24,
   "metadata": {},
   "outputs": [],
   "source": [
    "import cv2\n",
    "import numpy as np\n",
    "\n",
    "def extract_white_mask(image):\n",
    "    \"\"\"\n",
    "    Extracts a mask where all white pixels in the input image are the mask.\n",
    "\n",
    "    Parameters:\n",
    "    - image: numpy.ndarray, the input image.\n",
    "\n",
    "    Returns:\n",
    "    - mask: numpy.ndarray, the binary mask with white pixels as the mask.\n",
    "    \"\"\"\n",
    "    # Define the range for white color in BGR format\n",
    "    lower_white = np.array([255, 255, 255], dtype=np.uint8)\n",
    "    upper_white = np.array([255, 255, 255], dtype=np.uint8)\n",
    "\n",
    "    # Create the mask using cv2.inRange\n",
    "    mask = cv2.inRange(image, lower_white, upper_white)\n",
    "\n",
    "    return mask\n",
    "\n",
    "# Example usage\n",
    "img = cv2.imread('test2.png')\n",
    "mask = extract_white_mask(img)\n",
    "cv2.imwrite('white_mask.png', mask)\n",
    "# Display the original image and the mask\n",
    "cv2.imshow('Original Image', img)\n",
    "cv2.imshow('White Mask', mask)\n",
    "cv2.waitKey(0)\n",
    "cv2.destroyAllWindows()"
   ]
  },
  {
   "cell_type": "code",
   "execution_count": null,
   "metadata": {},
   "outputs": [],
   "source": []
  }
 ],
 "metadata": {
  "kernelspec": {
   "display_name": "base",
   "language": "python",
   "name": "python3"
  },
  "language_info": {
   "codemirror_mode": {
    "name": "ipython",
    "version": 3
   },
   "file_extension": ".py",
   "mimetype": "text/x-python",
   "name": "python",
   "nbconvert_exporter": "python",
   "pygments_lexer": "ipython3",
   "version": "3.10.13"
  }
 },
 "nbformat": 4,
 "nbformat_minor": 2
}
