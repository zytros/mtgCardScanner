{
 "cells": [
  {
   "cell_type": "code",
   "execution_count": 3,
   "metadata": {},
   "outputs": [],
   "source": [
    "import torch\n",
    "from augmentation import Clip, Tile, Jitter, RepeatBatch, ColorJitter\n",
    "from augmentation.pre import GaussianNoise\n",
    "from hooks.transformer.vit import ViTAttHookHolder, ViTGeLUHook\n",
    "from inversion import ImageNetVisualizer\n",
    "from inversion.utils import new_init\n",
    "from loss import LossArray, TotalVariation\n",
    "from loss.image_net import ViTFeatHook, ViTEnsFeatHook\n",
    "from model import model_library\n",
    "from saver import ExperimentSaver\n",
    "from utils import exp_starter_pack\n",
    "\n",
    "def run_main(layer, feature, grid, network, tv):\n",
    "    model, image_size, _, _ = model_library[network]()\n",
    "    #import pdb; pdb.set_trace()\n",
    "    saver = ExperimentSaver(f'VisL{layer}_F{feature}_N{network}_TV{tv}', save_id=True, disk_saver=True)\n",
    "\n",
    "    loss = LossArray()\n",
    "    loss += ViTEnsFeatHook(ViTGeLUHook(model, sl=slice(layer, layer + 1)), key='high', feat=feature, coefficient=1)\n",
    "    loss += TotalVariation(2, image_size, coefficient=0.0005 * tv)\n",
    "\n",
    "    pre, post = torch.nn.Sequential(RepeatBatch(8), ColorJitter(8, shuffle_every=True),\n",
    "                                    GaussianNoise(8, True, 0.5, 400), Tile(image_size // image_size), Jitter()), Clip()\n",
    "\n",
    "    image = new_init(image_size, 1)\n",
    "    visualizer = ImageNetVisualizer(loss, None, pre, post, print_every=10, lr=0.1, steps=400, save_every=100)\n",
    "    image.data = visualizer(image)\n",
    "    saver.save(image, 'final')"
   ]
  },
  {
   "cell_type": "code",
   "execution_count": 29,
   "metadata": {},
   "outputs": [
    {
     "name": "stdout",
     "output_type": "stream",
     "text": [
      "Loaded pretrained weights.\n",
      "#i\tLoss\tVTE\tTV\n",
      "0\t-0.01\t-0.05(-0.05)\t0.04(777)\n",
      "10\t-0.47\t-0.5(-0.5)\t0.03(570)\n",
      "20\t-0.22\t-0.25(-0.25)\t0.03(596)\n",
      "30\t-0.31\t-0.33(-0.33)\t0.02(491)\n",
      "40\t-0.3\t-0.32(-0.32)\t0.03(529)\n",
      "50\t-0.38\t-0.4(-0.4)\t0.02(439)\n",
      "60\t-0.6\t-0.62(-0.62)\t0.02(405)\n",
      "70\t-0.27\t-0.29(-0.29)\t0.02(456)\n",
      "80\t-0.29\t-0.31(-0.31)\t0.02(451)\n",
      "90\t-0.56\t-0.58(-0.58)\t0.02(365)\n",
      "100\t-0.25\t-0.27(-0.27)\t0.02(438)\n",
      "110\t-0.64\t-0.66(-0.66)\t0.02(429)\n",
      "120\t-0.9\t-0.92(-0.92)\t0.03(502)\n",
      "130\t-0.14\t-0.16(-0.16)\t0.02(385)\n",
      "140\t-0.69\t-0.71(-0.71)\t0.02(354)\n",
      "150\t-0.21\t-0.23(-0.23)\t0.02(436)\n",
      "160\t-0.45\t-0.47(-0.47)\t0.02(439)\n",
      "170\t-0.72\t-0.74(-0.74)\t0.02(411)\n",
      "180\t-0.41\t-0.43(-0.43)\t0.02(386)\n",
      "190\t-0.59\t-0.61(-0.61)\t0.02(358)\n",
      "200\t-0.52\t-0.53(-0.53)\t0.02(337)\n",
      "210\t-0.39\t-0.4(-0.4)\t0.02(358)\n",
      "220\t-0.62\t-0.64(-0.64)\t0.02(489)\n",
      "230\t-0.56\t-0.58(-0.58)\t0.02(388)\n",
      "240\t-1.05\t-1.06(-1.06)\t0.02(311)\n",
      "250\t-0.53\t-0.54(-0.54)\t0.01(299)\n",
      "260\t-0.63\t-0.66(-0.66)\t0.02(437)\n",
      "270\t-0.47\t-0.49(-0.49)\t0.02(431)\n",
      "280\t-0.34\t-0.36(-0.36)\t0.02(390)\n",
      "290\t-0.46\t-0.48(-0.48)\t0.02(312)\n",
      "300\t-0.67\t-0.69(-0.69)\t0.02(434)\n",
      "310\t-0.42\t-0.44(-0.44)\t0.02(386)\n",
      "320\t-0.77\t-0.8(-0.8)\t0.02(439)\n",
      "330\t-0.38\t-0.39(-0.39)\t0.02(331)\n",
      "340\t-0.73\t-0.74(-0.74)\t0.02(341)\n",
      "350\t-0.45\t-0.46(-0.46)\t0.02(360)\n",
      "360\t-0.89\t-0.91(-0.91)\t0.02(320)\n",
      "370\t-0.69\t-0.71(-0.71)\t0.02(411)\n",
      "380\t-0.55\t-0.56(-0.56)\t0.02(305)\n",
      "390\t-0.39\t-0.4(-0.4)\t0.02(316)\n",
      "400\t-0.5\t-0.51(-0.51)\t0.02(351)\n"
     ]
    },
    {
     "data": {
      "text/plain": [
       "0"
      ]
     },
     "execution_count": 29,
     "metadata": {},
     "output_type": "execute_result"
    }
   ],
   "source": [
    "run_main(layer=0,feature=3071,grid=0,network=35,tv=0.1)\n",
    "'''\n",
    "layer in [0,11]\n",
    "feature for layer 0 in [0,3071]\n",
    "'''\n",
    "0"
   ]
  },
  {
   "cell_type": "code",
   "execution_count": null,
   "metadata": {},
   "outputs": [],
   "source": []
  }
 ],
 "metadata": {
  "kernelspec": {
   "display_name": "base",
   "language": "python",
   "name": "python3"
  },
  "language_info": {
   "codemirror_mode": {
    "name": "ipython",
    "version": 3
   },
   "file_extension": ".py",
   "mimetype": "text/x-python",
   "name": "python",
   "nbconvert_exporter": "python",
   "pygments_lexer": "ipython3",
   "version": "3.10.13"
  }
 },
 "nbformat": 4,
 "nbformat_minor": 2
}
